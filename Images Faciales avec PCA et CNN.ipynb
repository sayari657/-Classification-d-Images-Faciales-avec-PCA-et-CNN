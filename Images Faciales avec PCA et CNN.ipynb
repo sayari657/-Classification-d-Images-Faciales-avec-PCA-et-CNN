{
 "cells": [
  {
   "cell_type": "code",
   "execution_count": null,
   "id": "5904c9a5",
   "metadata": {},
   "outputs": [],
   "source": [
    "from sklearn.decomposition import PCA\n",
    "from sklearn.preprocessing import StandardScaler\n",
    "import numpy as np\n",
    "import matplotlib.pyplot as plt\n",
    "from sklearn.datasets import fetch_olivetti_faces\n",
    "from sklearn.model_selection import train_test_split\n",
    "from tensorflow.keras import layers, models\n"
   ]
  },
  {
   "cell_type": "code",
   "execution_count": null,
   "id": "c04f6c30",
   "metadata": {},
   "outputs": [],
   "source": [
    "\n",
    "# Charger l'ensemble de données ORL\n",
    "donnees = fetch_olivetti_faces()\n",
    "images = donnees.images\n",
    "cibles = donnees.target\n",
    "\n",
    "# Réduction du nombre de composantes PCA\n",
    "acp = PCA(n_components=20)  # Réduction à 20 composantes principales\n",
    "images_aplaties = images.reshape(images.shape[0], -1)\n",
    "images_normalisees = StandardScaler().fit_transform(images_aplaties)\n",
    "images_reduites = acp.fit_transform(images_normalisees)\n",
    "images_reconstruites = acp.inverse_transform(images_reduites).reshape(images.shape)\n",
    "\n",
    "# Afficher les images reconstruites\n",
    "def afficher_images(images, cibles, num_lignes=3, num_colonnes=5):\n",
    "    fig, axes = plt.subplots(num_lignes, num_colonnes, figsize=(10, 6),\n",
    "                             subplot_kw={'xticks': [], 'yticks': []},\n",
    "                             gridspec_kw=dict(hspace=0.1, wspace=0.1))\n",
    "    num_images = num_lignes * num_colonnes\n",
    "    indices = np.random.choice(len(images), size=num_images, replace=False)\n",
    "    for i, ax in enumerate(axes.flat):\n",
    "        ax.imshow(images[indices[i]], cmap='gray')\n",
    "        ax.set_title(f\"Personne {cibles[indices[i]]}\")\n",
    "    plt.show()\n",
    "\n",
    "afficher_images(images_reconstruites, cibles)\n",
    "\n"
   ]
  },
  {
   "cell_type": "code",
   "execution_count": null,
   "id": "000c1aa7",
   "metadata": {
    "scrolled": false
   },
   "outputs": [],
   "source": [
    "# Diviser les données en ensembles d'entraînement et de test\n",
    "x_train, x_test, y_train, y_test = train_test_split(images_reconstruites, cibles, test_size=0.2, random_state=42)\n",
    "x_train = np.expand_dims(x_train, axis=-1)\n",
    "x_test = np.expand_dims(x_test, axis=-1)\n",
    "\n",
    "# Créer un modèle CNN plus simple\n",
    "model = models.Sequential([\n",
    "    layers.Conv2D(32, (3, 3), activation='relu', input_shape=(64, 64, 1)),\n",
    "    layers.MaxPooling2D((2, 2)),\n",
    "    layers.Conv2D(64, (3, 3), activation='relu'),\n",
    "    layers.MaxPooling2D((2, 2)),\n",
    "    layers.Flatten(),\n",
    "    layers.Dense(64, activation='relu'),\n",
    "    layers.Dense(40, activation='softmax')\n",
    "])\n",
    "\n",
    "# Compiler le modèle\n",
    "model.compile(optimizer='adam',\n",
    "              loss='sparse_categorical_crossentropy',\n",
    "              metrics=['accuracy'])\n",
    "\n",
    "# Entraîner le modèle\n",
    "history = model.fit(x_train, y_train, epochs=20, validation_data=(x_test, y_test))\n",
    "\n",
    "# Évaluer le modèle\n",
    "test_loss, test_acc = model.evaluate(x_test, y_test)\n",
    "print(f\"Test accuracy: {test_acc}\")\n",
    "\n",
    "# Afficher les courbes d'apprentissage\n",
    "plt.plot(history.history['accuracy'], label='accuracy')\n",
    "plt.plot(history.history['val_accuracy'], label='val_accuracy')\n",
    "plt.xlabel('Epoch')\n",
    "plt.ylabel('Accuracy')\n",
    "plt.legend(loc='lower right')\n",
    "plt.show()\n"
   ]
  }
 ],
 "metadata": {
  "kernelspec": {
   "display_name": "Python 3 (ipykernel)",
   "language": "python",
   "name": "python3"
  },
  "language_info": {
   "codemirror_mode": {
    "name": "ipython",
    "version": 3
   },
   "file_extension": ".py",
   "mimetype": "text/x-python",
   "name": "python",
   "nbconvert_exporter": "python",
   "pygments_lexer": "ipython3",
   "version": "3.11.5"
  }
 },
 "nbformat": 4,
 "nbformat_minor": 5
}
